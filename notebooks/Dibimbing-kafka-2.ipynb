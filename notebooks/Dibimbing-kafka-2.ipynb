{
 "cells": [
  {
   "cell_type": "code",
   "execution_count": 1,
   "id": "aa3d2efe-9447-4b55-b7a7-5e3b51762fe8",
   "metadata": {
    "tags": []
   },
   "outputs": [],
   "source": [
    "import json\n",
    "import uuid\n",
    "import os\n",
    "import json\n",
    "from dotenv import load_dotenv\n",
    "from pathlib import Path\n",
    "from kafka import KafkaProducer\n",
    "from faker import Faker\n",
    "from time import sleep"
   ]
  },
  {
   "cell_type": "code",
   "execution_count": 2,
   "id": "f8124ea4-9961-4141-8f61-4b3a31b35beb",
   "metadata": {
    "tags": []
   },
   "outputs": [
    {
     "data": {
      "text/plain": [
       "True"
      ]
     },
     "execution_count": 2,
     "metadata": {},
     "output_type": "execute_result"
    }
   ],
   "source": [
    "dotenv_path = Path('/resources/.env')\n",
    "load_dotenv(dotenv_path=dotenv_path)"
   ]
  },
  {
   "cell_type": "code",
   "execution_count": 3,
   "id": "984cf422-fabd-43a4-8e1e-9771303b556b",
   "metadata": {
    "tags": []
   },
   "outputs": [],
   "source": [
    "kafka_host = os.getenv('KAFKA_HOST')\n",
    "kafka_topic = os.getenv('KAFKA_TOPIC_NAME')\n",
    "kafka_topic_partition = os.getenv('KAFKA_TOPIC_NAME')+\"-1\""
   ]
  },
  {
   "cell_type": "code",
   "execution_count": 4,
   "id": "47d743be-7190-48e0-87c0-5f6ddedff5da",
   "metadata": {
    "tags": []
   },
   "outputs": [],
   "source": [
    "from kafka import KafkaConsumer\n",
    "\n",
    "# To consume latest messages and auto-commit offsets\n",
    "consumer = KafkaConsumer(kafka_topic_partition,\n",
    "                         group_id='dibimbing-group',\n",
    "                         bootstrap_servers=[f'{kafka_host}:9092'])"
   ]
  },
  {
   "cell_type": "code",
   "execution_count": 5,
   "id": "47c9f9b3-a5b0-4bd5-93e7-dcf06e99b192",
   "metadata": {
    "tags": []
   },
   "outputs": [
    {
     "name": "stdout",
     "output_type": "stream",
     "text": [
      "test-topic-1:0:32: key=None value=b'{\"emp_id\": \"842b4230-c6e5-4be4-9277-dba08d998c9a\", \"employee_name\": \"Rose Malone\", \"department\": \"HR\", \"state\": \"IL\", \"salary\": 90865, \"age\": 30, \"bonus\": 11650, \"ts\": 356351770}'\n",
      "test-topic-1:0:33: key=None value=b'{\"emp_id\": \"1fb8c356-b0a8-4a99-921e-4da3047b541f\", \"employee_name\": \"Judith Brown\", \"department\": \"Sales\", \"state\": \"IL\", \"salary\": 148080, \"age\": 30, \"bonus\": 31714, \"ts\": 1353556114}'\n",
      "test-topic-1:0:34: key=None value=b'{\"emp_id\": \"4e98c503-7daa-4b9b-9833-0f69404cc2d2\", \"employee_name\": \"Tony Koch\", \"department\": \"Marketing\", \"state\": \"CA\", \"salary\": 120956, \"age\": 37, \"bonus\": 10019, \"ts\": 515885081}'\n",
      "test-topic-1:0:35: key=None value=b'{\"emp_id\": \"df380504-46fd-486d-9c9e-73df735f7a10\", \"employee_name\": \"Cathy Horton\", \"department\": \"IT\", \"state\": \"TX\", \"salary\": 67160, \"age\": 21, \"bonus\": 9093, \"ts\": 260021953}'\n",
      "test-topic-1:0:36: key=None value=b'{\"emp_id\": \"2b41eb07-0dd7-4d16-8472-2863b8b775df\", \"employee_name\": \"Molly Ortiz\", \"department\": \"IT\", \"state\": \"NY\", \"salary\": 131636, \"age\": 49, \"bonus\": 43664, \"ts\": 767202569}'\n",
      "test-topic-1:0:37: key=None value=b'{\"emp_id\": \"3432c7eb-789a-43aa-b1d1-17d67062281c\", \"employee_name\": \"Thomas Powell\", \"department\": \"Marketing\", \"state\": \"IL\", \"salary\": 121991, \"age\": 48, \"bonus\": 43988, \"ts\": 724343155}'\n",
      "test-topic-1:0:38: key=None value=b'{\"emp_id\": \"fce156c3-9a36-4fe3-b92d-b82fa7b75af8\", \"employee_name\": \"Kimberly Allen\", \"department\": \"HR\", \"state\": \"CA\", \"salary\": 22480, \"age\": 36, \"bonus\": 18544, \"ts\": 657667963}'\n",
      "test-topic-1:0:39: key=None value=b'{\"emp_id\": \"e0da161a-aa36-44d5-9030-8ef56967c51f\", \"employee_name\": \"Jodi Lozano\", \"department\": \"Sales\", \"state\": \"TX\", \"salary\": 105944, \"age\": 51, \"bonus\": 34570, \"ts\": 836564911}'\n",
      "test-topic-1:0:40: key=None value=b'{\"emp_id\": \"9d316b9b-072b-4b78-933a-d8b691e5ae86\", \"employee_name\": \"Lisa Vasquez\", \"department\": \"Sales\", \"state\": \"NY\", \"salary\": 96755, \"age\": 26, \"bonus\": 35368, \"ts\": 991237153}'\n",
      "test-topic-1:0:41: key=None value=b'{\"emp_id\": \"99768ed5-5105-4541-8c43-011bb8adecb5\", \"employee_name\": \"Monica Campbell\", \"department\": \"HR\", \"state\": \"FL\", \"salary\": 62520, \"age\": 30, \"bonus\": 52786, \"ts\": 1011405737}'\n",
      "test-topic-1:0:42: key=None value=b'{\"emp_id\": \"b69821bc-9440-4814-be1f-db418251a1f0\", \"employee_name\": \"James Jones\", \"department\": \"HR\", \"state\": \"CA\", \"salary\": 38007, \"age\": 38, \"bonus\": 99835, \"ts\": 15882789}'\n",
      "test-topic-1:0:43: key=None value=b'{\"emp_id\": \"9366e633-89e1-4256-81a5-3eb9992cdc8a\", \"employee_name\": \"Emma Black\", \"department\": \"Sales\", \"state\": \"CA\", \"salary\": 137697, \"age\": 39, \"bonus\": 84280, \"ts\": 210990436}'\n",
      "test-topic-1:0:44: key=None value=b'{\"emp_id\": \"f8505f38-ed22-48db-ae70-fb85fbba9858\", \"employee_name\": \"Jared Miller\", \"department\": \"IT\", \"state\": \"TX\", \"salary\": 49315, \"age\": 52, \"bonus\": 23438, \"ts\": 752073847}'\n",
      "test-topic-1:0:45: key=None value=b'{\"emp_id\": \"5595b545-1daa-4ba1-a69b-9b711eee512c\", \"employee_name\": \"William Williams\", \"department\": \"HR\", \"state\": \"RJ\", \"salary\": 17769, \"age\": 50, \"bonus\": 29222, \"ts\": 16109518}'\n",
      "test-topic-1:0:46: key=None value=b'{\"emp_id\": \"fe740061-b1e3-4710-9b10-7adfb8f60c1f\", \"employee_name\": \"Taylor Stewart\", \"department\": \"Marketing\", \"state\": \"FL\", \"salary\": 99498, \"age\": 23, \"bonus\": 40645, \"ts\": 130967903}'\n",
      "test-topic-1:0:47: key=None value=b'{\"emp_id\": \"6fbca4e7-7694-41e5-bc4f-e643b0cfc388\", \"employee_name\": \"Alice Burton\", \"department\": \"Marketing\", \"state\": \"CA\", \"salary\": 73549, \"age\": 55, \"bonus\": 71207, \"ts\": 25347527}'\n",
      "test-topic-1:0:48: key=None value=b'{\"emp_id\": \"e46450aa-ab46-434d-812b-9fc10bdb3232\", \"employee_name\": \"John Clarke\", \"department\": \"Marketing\", \"state\": \"TX\", \"salary\": 14500, \"age\": 41, \"bonus\": 43720, \"ts\": 391462653}'\n",
      "test-topic-1:0:49: key=None value=b'{\"emp_id\": \"a02fedd3-2997-4c36-975f-dcd3e9493a27\", \"employee_name\": \"Steven Huff\", \"department\": \"Sales\", \"state\": \"TX\", \"salary\": 139008, \"age\": 34, \"bonus\": 31938, \"ts\": 1013962576}'\n",
      "test-topic-1:0:50: key=None value=b'{\"emp_id\": \"93def62e-6f30-4ee0-896a-51ac28b2b660\", \"employee_name\": \"Christopher Levy\", \"department\": \"HR\", \"state\": \"FL\", \"salary\": 67720, \"age\": 47, \"bonus\": 12941, \"ts\": 1300003675}'\n",
      "test-topic-1:0:51: key=None value=b'{\"emp_id\": \"a030d4de-adb2-4344-9c45-acd82dc550cf\", \"employee_name\": \"David Duncan\", \"department\": \"Marketing\", \"state\": \"RJ\", \"salary\": 148847, \"age\": 21, \"bonus\": 50390, \"ts\": 1662016097}'\n",
      "test-topic-1:0:52: key=None value=b'{\"emp_id\": \"0c590fc9-9960-49a6-a55a-01c450736a6f\", \"employee_name\": \"Anthony Davis\", \"department\": \"HR\", \"state\": \"CA\", \"salary\": 149540, \"age\": 20, \"bonus\": 18033, \"ts\": 32423717}'\n",
      "test-topic-1:0:53: key=None value=b'{\"emp_id\": \"96e2ef8a-6104-4117-8f95-9f6f059bd6cb\", \"employee_name\": \"Shaun Hernandez\", \"department\": \"Sales\", \"state\": \"FL\", \"salary\": 102958, \"age\": 45, \"bonus\": 30963, \"ts\": 1102365851}'\n",
      "test-topic-1:0:54: key=None value=b'{\"emp_id\": \"6b57b315-1c92-4123-8452-c8c6ea1beeab\", \"employee_name\": \"Adrienne Christensen\", \"department\": \"IT\", \"state\": \"RJ\", \"salary\": 89536, \"age\": 31, \"bonus\": 67589, \"ts\": 1305881900}'\n",
      "test-topic-1:0:55: key=None value=b'{\"emp_id\": \"81e9311f-b9c1-427f-a1bb-64711f9bf7b2\", \"employee_name\": \"Jamie Carter\", \"department\": \"Sales\", \"state\": \"TX\", \"salary\": 129945, \"age\": 22, \"bonus\": 60589, \"ts\": 163703202}'\n",
      "test-topic-1:0:56: key=None value=b'{\"emp_id\": \"691eca2d-2718-470a-91e8-809a43f24466\", \"employee_name\": \"Kurt Johnson\", \"department\": \"HR\", \"state\": \"NY\", \"salary\": 70909, \"age\": 23, \"bonus\": 40614, \"ts\": 404669731}'\n",
      "test-topic-1:0:57: key=None value=b'{\"emp_id\": \"e17c91de-88d2-412b-8fa9-028666c1a3ab\", \"employee_name\": \"James Morgan\", \"department\": \"Marketing\", \"state\": \"IL\", \"salary\": 145324, \"age\": 60, \"bonus\": 89087, \"ts\": 83366073}'\n",
      "test-topic-1:0:58: key=None value=b'{\"emp_id\": \"f0cf0e06-eb47-4b27-9d2a-9dcc4153f4b8\", \"employee_name\": \"David Weaver\", \"department\": \"IT\", \"state\": \"RJ\", \"salary\": 41992, \"age\": 49, \"bonus\": 33759, \"ts\": 596743648}'\n",
      "test-topic-1:0:59: key=None value=b'{\"emp_id\": \"cac9f99d-c13a-44ec-80ad-a5bfabe22208\", \"employee_name\": \"Joseph Waters\", \"department\": \"Sales\", \"state\": \"TX\", \"salary\": 35622, \"age\": 44, \"bonus\": 31581, \"ts\": 1310150331}'\n",
      "test-topic-1:0:60: key=None value=b'{\"emp_id\": \"b1b32bb5-592a-4842-a35a-db8cb4650e71\", \"employee_name\": \"Bradley Perry\", \"department\": \"HR\", \"state\": \"CA\", \"salary\": 92516, \"age\": 41, \"bonus\": 50742, \"ts\": 1052037226}'\n",
      "test-topic-1:0:61: key=None value=b'{\"emp_id\": \"79091f70-8b71-4af6-9dbc-4b2c9fa99d22\", \"employee_name\": \"Russell Johnson\", \"department\": \"HR\", \"state\": \"RJ\", \"salary\": 120146, \"age\": 36, \"bonus\": 30070, \"ts\": 970243697}'\n",
      "test-topic-1:0:62: key=None value=b'{\"emp_id\": \"be50999a-3421-46c7-af49-b20a252cd0bb\", \"employee_name\": \"Michael Jones\", \"department\": \"Marketing\", \"state\": \"NY\", \"salary\": 65834, \"age\": 21, \"bonus\": 72049, \"ts\": 946080525}'\n",
      "test-topic-1:0:63: key=None value=b'{\"emp_id\": \"61fa7508-e426-4271-94af-e7df5b693385\", \"employee_name\": \"James Fisher\", \"department\": \"Marketing\", \"state\": \"CA\", \"salary\": 27980, \"age\": 54, \"bonus\": 62725, \"ts\": 1321210997}'\n",
      "test-topic-1:0:64: key=None value=b'{\"emp_id\": \"091aa40e-c231-4d7f-9889-212c53214210\", \"employee_name\": \"Lauren Martinez\", \"department\": \"Marketing\", \"state\": \"RJ\", \"salary\": 96689, \"age\": 39, \"bonus\": 90237, \"ts\": 633680773}'\n",
      "test-topic-1:0:65: key=None value=b'{\"emp_id\": \"be69eb0a-1d15-41d9-9c86-7a11e1435dab\", \"employee_name\": \"Sandra Paul\", \"department\": \"Marketing\", \"state\": \"FL\", \"salary\": 75895, \"age\": 45, \"bonus\": 736, \"ts\": 193680240}'\n",
      "test-topic-1:0:66: key=None value=b'{\"emp_id\": \"f061bb9e-126a-46c6-9cc7-e22772bc6ff6\", \"employee_name\": \"Susan Smith\", \"department\": \"Marketing\", \"state\": \"NY\", \"salary\": 92602, \"age\": 46, \"bonus\": 99003, \"ts\": 1413921830}'\n",
      "test-topic-1:0:67: key=None value=b'{\"emp_id\": \"a2be7cce-e25a-4ee3-acb4-424e3259a166\", \"employee_name\": \"John Smith\", \"department\": \"HR\", \"state\": \"IL\", \"salary\": 37432, \"age\": 38, \"bonus\": 22171, \"ts\": 1307274819}'\n",
      "test-topic-1:0:68: key=None value=b'{\"emp_id\": \"89e1dbcb-1cf6-4d7c-8693-1b6cf0686a82\", \"employee_name\": \"Kathleen Johnston\", \"department\": \"HR\", \"state\": \"NY\", \"salary\": 22145, \"age\": 43, \"bonus\": 72935, \"ts\": 1478549651}'\n",
      "test-topic-1:0:69: key=None value=b'{\"emp_id\": \"2a74202b-e4a7-474b-9019-fedfc64c74fb\", \"employee_name\": \"Cynthia Cannon\", \"department\": \"IT\", \"state\": \"RJ\", \"salary\": 129561, \"age\": 22, \"bonus\": 476, \"ts\": 748562643}'\n",
      "test-topic-1:0:70: key=None value=b'{\"emp_id\": \"c42152c7-35a4-4adf-a8a4-6c920a0621dc\", \"employee_name\": \"Stephanie Miller\", \"department\": \"Marketing\", \"state\": \"TX\", \"salary\": 46937, \"age\": 27, \"bonus\": 76243, \"ts\": 387076337}'\n",
      "test-topic-1:0:71: key=None value=b'{\"emp_id\": \"8e54b87f-b560-4bf4-9aa7-5d22e43dd77f\", \"employee_name\": \"Steven Woodard\", \"department\": \"Marketing\", \"state\": \"RJ\", \"salary\": 88331, \"age\": 50, \"bonus\": 72893, \"ts\": 166026765}'\n",
      "test-topic-1:0:72: key=None value=b'{\"emp_id\": \"0adc6965-733e-4cd9-992d-c87988fcd0aa\", \"employee_name\": \"Lauren Gomez\", \"department\": \"HR\", \"state\": \"TX\", \"salary\": 139569, \"age\": 33, \"bonus\": 71289, \"ts\": 878449454}'\n",
      "test-topic-1:0:73: key=None value=b'{\"emp_id\": \"b285fdf3-f92e-492b-8f9e-43a79a72e2f6\", \"employee_name\": \"Mary Morris\", \"department\": \"HR\", \"state\": \"RJ\", \"salary\": 43789, \"age\": 46, \"bonus\": 2965, \"ts\": 958179891}'\n",
      "test-topic-1:0:74: key=None value=b'{\"emp_id\": \"16a377bf-2092-4937-80e2-8c3d4e05e534\", \"employee_name\": \"Megan Smith\", \"department\": \"IT\", \"state\": \"TX\", \"salary\": 118547, \"age\": 60, \"bonus\": 64203, \"ts\": 941957870}'\n",
      "test-topic-1:0:75: key=None value=b'{\"emp_id\": \"71a33e4a-de1b-4add-af9c-7b9911fe13de\", \"employee_name\": \"Elizabeth Hall\", \"department\": \"Sales\", \"state\": \"FL\", \"salary\": 19028, \"age\": 38, \"bonus\": 34190, \"ts\": 1483581438}'\n",
      "test-topic-1:0:76: key=None value=b'{\"emp_id\": \"f374ea0a-a821-47ff-b7c7-f14d12ff0e48\", \"employee_name\": \"Kelly Wright\", \"department\": \"Sales\", \"state\": \"TX\", \"salary\": 145653, \"age\": 39, \"bonus\": 32232, \"ts\": 126023123}'\n",
      "test-topic-1:0:77: key=None value=b'{\"emp_id\": \"9c970f69-ce2b-48e8-962a-c3934fbf5f54\", \"employee_name\": \"Charles Garner\", \"department\": \"Sales\", \"state\": \"IL\", \"salary\": 100106, \"age\": 50, \"bonus\": 69788, \"ts\": 1472355880}'\n",
      "test-topic-1:0:78: key=None value=b'{\"emp_id\": \"780fae77-0e43-4d83-98ea-99f3add46479\", \"employee_name\": \"Allison Lopez\", \"department\": \"Sales\", \"state\": \"NY\", \"salary\": 132510, \"age\": 34, \"bonus\": 85472, \"ts\": 52398457}'\n",
      "test-topic-1:0:79: key=None value=b'{\"emp_id\": \"e1c1d61f-cc84-455c-b04e-3de47343b06d\", \"employee_name\": \"Kyle Lewis\", \"department\": \"IT\", \"state\": \"NY\", \"salary\": 149151, \"age\": 33, \"bonus\": 45835, \"ts\": 554898575}'\n",
      "test-topic-1:0:80: key=None value=b'{\"emp_id\": \"ecea67c6-95e6-442e-8a38-8f782e182156\", \"employee_name\": \"Robert Roach\", \"department\": \"Marketing\", \"state\": \"TX\", \"salary\": 52812, \"age\": 60, \"bonus\": 45337, \"ts\": 769276240}'\n",
      "test-topic-1:0:81: key=None value=b'{\"emp_id\": \"cbfb37d1-62a8-46d6-a2fe-012cb90eacbe\", \"employee_name\": \"Keith Proctor\", \"department\": \"Sales\", \"state\": \"TX\", \"salary\": 58244, \"age\": 39, \"bonus\": 50676, \"ts\": 423310354}'\n",
      "test-topic-1:0:82: key=None value=b'{\"emp_id\": \"1e64c125-3bb2-46d0-9521-0681545c84d9\", \"employee_name\": \"Julie Long\", \"department\": \"HR\", \"state\": \"TX\", \"salary\": 148618, \"age\": 53, \"bonus\": 43185, \"ts\": 1000727501}'\n",
      "test-topic-1:0:83: key=None value=b'{\"emp_id\": \"bd107c00-755f-467d-a3bc-66c769696c63\", \"employee_name\": \"Juan Harrington\", \"department\": \"Sales\", \"state\": \"TX\", \"salary\": 11262, \"age\": 29, \"bonus\": 20239, \"ts\": 1218717018}'\n",
      "test-topic-1:0:84: key=None value=b'{\"emp_id\": \"9d84d880-5750-40b3-8a40-7076c0fd16e0\", \"employee_name\": \"Jose Cruz\", \"department\": \"IT\", \"state\": \"RJ\", \"salary\": 125330, \"age\": 24, \"bonus\": 35591, \"ts\": 821403462}'\n",
      "test-topic-1:0:85: key=None value=b'{\"emp_id\": \"a781ac35-d082-42a2-8e07-ec75100fff0b\", \"employee_name\": \"Sandra Mcclure\", \"department\": \"IT\", \"state\": \"RJ\", \"salary\": 49357, \"age\": 36, \"bonus\": 91548, \"ts\": 1590425006}'\n",
      "test-topic-1:0:86: key=None value=b'{\"emp_id\": \"06fa57f5-4474-4cba-aae0-0d9f3f3c3864\", \"employee_name\": \"Steven Henderson\", \"department\": \"Sales\", \"state\": \"IL\", \"salary\": 69107, \"age\": 30, \"bonus\": 20440, \"ts\": 500098011}'\n",
      "test-topic-1:0:87: key=None value=b'{\"emp_id\": \"8bc0750e-e967-4ceb-bc80-64ed77f4f141\", \"employee_name\": \"Chad Smith\", \"department\": \"HR\", \"state\": \"RJ\", \"salary\": 52183, \"age\": 54, \"bonus\": 40034, \"ts\": 209567120}'\n",
      "test-topic-1:0:88: key=None value=b'{\"emp_id\": \"87929e02-d565-4675-b208-fd20d52ab70c\", \"employee_name\": \"Leonard Merritt\", \"department\": \"IT\", \"state\": \"CA\", \"salary\": 28708, \"age\": 52, \"bonus\": 58317, \"ts\": 1617194884}'\n",
      "test-topic-1:0:89: key=None value=b'{\"emp_id\": \"339e5748-1dcf-40f4-a381-fecd88506347\", \"employee_name\": \"Mark Wright\", \"department\": \"IT\", \"state\": \"CA\", \"salary\": 30273, \"age\": 34, \"bonus\": 82849, \"ts\": 803915454}'\n",
      "test-topic-1:0:90: key=None value=b'{\"emp_id\": \"e4b84bc7-9117-4b0f-acb8-11d87fdadbc1\", \"employee_name\": \"Mariah Williams\", \"department\": \"IT\", \"state\": \"TX\", \"salary\": 77396, \"age\": 35, \"bonus\": 31823, \"ts\": 1507697092}'\n",
      "test-topic-1:0:91: key=None value=b'{\"emp_id\": \"3c8c43e8-3a76-44e2-a8f4-7a460b76eb42\", \"employee_name\": \"Jose Harris\", \"department\": \"HR\", \"state\": \"NY\", \"salary\": 80049, \"age\": 60, \"bonus\": 22731, \"ts\": 780926215}'\n",
      "test-topic-1:0:92: key=None value=b'{\"emp_id\": \"e5f38378-93da-4747-97e9-64a9e17143f8\", \"employee_name\": \"Stephanie Lindsey\", \"department\": \"Sales\", \"state\": \"TX\", \"salary\": 102601, \"age\": 30, \"bonus\": 33215, \"ts\": 33984927}'\n",
      "test-topic-1:0:93: key=None value=b'{\"emp_id\": \"32b959c5-6845-4189-86db-bd20a2b2351a\", \"employee_name\": \"Mark Durham\", \"department\": \"Marketing\", \"state\": \"TX\", \"salary\": 35824, \"age\": 48, \"bonus\": 80238, \"ts\": 1647289672}'\n",
      "test-topic-1:0:94: key=None value=b'{\"emp_id\": \"5d1e4f89-ea80-46c7-83b4-267a595c8537\", \"employee_name\": \"Lori Martinez\", \"department\": \"Sales\", \"state\": \"IL\", \"salary\": 74723, \"age\": 23, \"bonus\": 17755, \"ts\": 1214115834}'\n",
      "test-topic-1:0:95: key=None value=b'{\"emp_id\": \"86d37f9b-774a-4207-8db5-96dda01c3c33\", \"employee_name\": \"Pamela Garcia\", \"department\": \"Sales\", \"state\": \"CA\", \"salary\": 138202, \"age\": 51, \"bonus\": 47796, \"ts\": 34648084}'\n"
     ]
    },
    {
     "ename": "KeyboardInterrupt",
     "evalue": "",
     "output_type": "error",
     "traceback": [
      "\u001b[0;31m---------------------------------------------------------------------------\u001b[0m",
      "\u001b[0;31mKeyboardInterrupt\u001b[0m                         Traceback (most recent call last)",
      "Cell \u001b[0;32mIn[5], line 1\u001b[0m\n\u001b[0;32m----> 1\u001b[0m \u001b[38;5;28;01mfor\u001b[39;00m message \u001b[38;5;129;01min\u001b[39;00m consumer:\n\u001b[1;32m      2\u001b[0m     \u001b[38;5;28mprint\u001b[39m (\u001b[38;5;124m\"\u001b[39m\u001b[38;5;132;01m%s\u001b[39;00m\u001b[38;5;124m:\u001b[39m\u001b[38;5;132;01m%d\u001b[39;00m\u001b[38;5;124m:\u001b[39m\u001b[38;5;132;01m%d\u001b[39;00m\u001b[38;5;124m: key=\u001b[39m\u001b[38;5;132;01m%s\u001b[39;00m\u001b[38;5;124m value=\u001b[39m\u001b[38;5;132;01m%s\u001b[39;00m\u001b[38;5;124m\"\u001b[39m \u001b[38;5;241m%\u001b[39m (message\u001b[38;5;241m.\u001b[39mtopic, message\u001b[38;5;241m.\u001b[39mpartition,\n\u001b[1;32m      3\u001b[0m                                           message\u001b[38;5;241m.\u001b[39moffset, message\u001b[38;5;241m.\u001b[39mkey,\n\u001b[1;32m      4\u001b[0m                                           message\u001b[38;5;241m.\u001b[39mvalue))\n",
      "File \u001b[0;32m/opt/conda/lib/python3.10/site-packages/kafka/consumer/group.py:1193\u001b[0m, in \u001b[0;36mKafkaConsumer.__next__\u001b[0;34m(self)\u001b[0m\n\u001b[1;32m   1191\u001b[0m     \u001b[38;5;28;01mreturn\u001b[39;00m \u001b[38;5;28mself\u001b[39m\u001b[38;5;241m.\u001b[39mnext_v1()\n\u001b[1;32m   1192\u001b[0m \u001b[38;5;28;01melse\u001b[39;00m:\n\u001b[0;32m-> 1193\u001b[0m     \u001b[38;5;28;01mreturn\u001b[39;00m \u001b[38;5;28;43mself\u001b[39;49m\u001b[38;5;241;43m.\u001b[39;49m\u001b[43mnext_v2\u001b[49m\u001b[43m(\u001b[49m\u001b[43m)\u001b[49m\n",
      "File \u001b[0;32m/opt/conda/lib/python3.10/site-packages/kafka/consumer/group.py:1201\u001b[0m, in \u001b[0;36mKafkaConsumer.next_v2\u001b[0;34m(self)\u001b[0m\n\u001b[1;32m   1199\u001b[0m     \u001b[38;5;28mself\u001b[39m\u001b[38;5;241m.\u001b[39m_iterator \u001b[38;5;241m=\u001b[39m \u001b[38;5;28mself\u001b[39m\u001b[38;5;241m.\u001b[39m_message_generator_v2()\n\u001b[1;32m   1200\u001b[0m \u001b[38;5;28;01mtry\u001b[39;00m:\n\u001b[0;32m-> 1201\u001b[0m     \u001b[38;5;28;01mreturn\u001b[39;00m \u001b[38;5;28;43mnext\u001b[39;49m\u001b[43m(\u001b[49m\u001b[38;5;28;43mself\u001b[39;49m\u001b[38;5;241;43m.\u001b[39;49m\u001b[43m_iterator\u001b[49m\u001b[43m)\u001b[49m\n\u001b[1;32m   1202\u001b[0m \u001b[38;5;28;01mexcept\u001b[39;00m \u001b[38;5;167;01mStopIteration\u001b[39;00m:\n\u001b[1;32m   1203\u001b[0m     \u001b[38;5;28mself\u001b[39m\u001b[38;5;241m.\u001b[39m_iterator \u001b[38;5;241m=\u001b[39m \u001b[38;5;28;01mNone\u001b[39;00m\n",
      "File \u001b[0;32m/opt/conda/lib/python3.10/site-packages/kafka/consumer/group.py:1116\u001b[0m, in \u001b[0;36mKafkaConsumer._message_generator_v2\u001b[0;34m(self)\u001b[0m\n\u001b[1;32m   1114\u001b[0m \u001b[38;5;28;01mdef\u001b[39;00m \u001b[38;5;21m_message_generator_v2\u001b[39m(\u001b[38;5;28mself\u001b[39m):\n\u001b[1;32m   1115\u001b[0m     timeout_ms \u001b[38;5;241m=\u001b[39m \u001b[38;5;241m1000\u001b[39m \u001b[38;5;241m*\u001b[39m (\u001b[38;5;28mself\u001b[39m\u001b[38;5;241m.\u001b[39m_consumer_timeout \u001b[38;5;241m-\u001b[39m time\u001b[38;5;241m.\u001b[39mtime())\n\u001b[0;32m-> 1116\u001b[0m     record_map \u001b[38;5;241m=\u001b[39m \u001b[38;5;28;43mself\u001b[39;49m\u001b[38;5;241;43m.\u001b[39;49m\u001b[43mpoll\u001b[49m\u001b[43m(\u001b[49m\u001b[43mtimeout_ms\u001b[49m\u001b[38;5;241;43m=\u001b[39;49m\u001b[43mtimeout_ms\u001b[49m\u001b[43m,\u001b[49m\u001b[43m \u001b[49m\u001b[43mupdate_offsets\u001b[49m\u001b[38;5;241;43m=\u001b[39;49m\u001b[38;5;28;43;01mFalse\u001b[39;49;00m\u001b[43m)\u001b[49m\n\u001b[1;32m   1117\u001b[0m     \u001b[38;5;28;01mfor\u001b[39;00m tp, records \u001b[38;5;129;01min\u001b[39;00m six\u001b[38;5;241m.\u001b[39miteritems(record_map):\n\u001b[1;32m   1118\u001b[0m         \u001b[38;5;66;03m# Generators are stateful, and it is possible that the tp / records\u001b[39;00m\n\u001b[1;32m   1119\u001b[0m         \u001b[38;5;66;03m# here may become stale during iteration -- i.e., we seek to a\u001b[39;00m\n\u001b[1;32m   1120\u001b[0m         \u001b[38;5;66;03m# different offset, pause consumption, or lose assignment.\u001b[39;00m\n\u001b[1;32m   1121\u001b[0m         \u001b[38;5;28;01mfor\u001b[39;00m record \u001b[38;5;129;01min\u001b[39;00m records:\n\u001b[1;32m   1122\u001b[0m             \u001b[38;5;66;03m# is_fetchable(tp) should handle assignment changes and offset\u001b[39;00m\n\u001b[1;32m   1123\u001b[0m             \u001b[38;5;66;03m# resets; for all other changes (e.g., seeks) we'll rely on the\u001b[39;00m\n\u001b[1;32m   1124\u001b[0m             \u001b[38;5;66;03m# outer function destroying the existing iterator/generator\u001b[39;00m\n\u001b[1;32m   1125\u001b[0m             \u001b[38;5;66;03m# via self._iterator = None\u001b[39;00m\n",
      "File \u001b[0;32m/opt/conda/lib/python3.10/site-packages/kafka/consumer/group.py:655\u001b[0m, in \u001b[0;36mKafkaConsumer.poll\u001b[0;34m(self, timeout_ms, max_records, update_offsets)\u001b[0m\n\u001b[1;32m    653\u001b[0m remaining \u001b[38;5;241m=\u001b[39m timeout_ms\n\u001b[1;32m    654\u001b[0m \u001b[38;5;28;01mwhile\u001b[39;00m \u001b[38;5;28;01mTrue\u001b[39;00m:\n\u001b[0;32m--> 655\u001b[0m     records \u001b[38;5;241m=\u001b[39m \u001b[38;5;28;43mself\u001b[39;49m\u001b[38;5;241;43m.\u001b[39;49m\u001b[43m_poll_once\u001b[49m\u001b[43m(\u001b[49m\u001b[43mremaining\u001b[49m\u001b[43m,\u001b[49m\u001b[43m \u001b[49m\u001b[43mmax_records\u001b[49m\u001b[43m,\u001b[49m\u001b[43m \u001b[49m\u001b[43mupdate_offsets\u001b[49m\u001b[38;5;241;43m=\u001b[39;49m\u001b[43mupdate_offsets\u001b[49m\u001b[43m)\u001b[49m\n\u001b[1;32m    656\u001b[0m     \u001b[38;5;28;01mif\u001b[39;00m records:\n\u001b[1;32m    657\u001b[0m         \u001b[38;5;28;01mreturn\u001b[39;00m records\n",
      "File \u001b[0;32m/opt/conda/lib/python3.10/site-packages/kafka/consumer/group.py:702\u001b[0m, in \u001b[0;36mKafkaConsumer._poll_once\u001b[0;34m(self, timeout_ms, max_records, update_offsets)\u001b[0m\n\u001b[1;32m    699\u001b[0m     \u001b[38;5;28mself\u001b[39m\u001b[38;5;241m.\u001b[39m_client\u001b[38;5;241m.\u001b[39mpoll(timeout_ms\u001b[38;5;241m=\u001b[39m\u001b[38;5;241m0\u001b[39m)\n\u001b[1;32m    701\u001b[0m timeout_ms \u001b[38;5;241m=\u001b[39m \u001b[38;5;28mmin\u001b[39m(timeout_ms, \u001b[38;5;28mself\u001b[39m\u001b[38;5;241m.\u001b[39m_coordinator\u001b[38;5;241m.\u001b[39mtime_to_next_poll() \u001b[38;5;241m*\u001b[39m \u001b[38;5;241m1000\u001b[39m)\n\u001b[0;32m--> 702\u001b[0m \u001b[38;5;28;43mself\u001b[39;49m\u001b[38;5;241;43m.\u001b[39;49m\u001b[43m_client\u001b[49m\u001b[38;5;241;43m.\u001b[39;49m\u001b[43mpoll\u001b[49m\u001b[43m(\u001b[49m\u001b[43mtimeout_ms\u001b[49m\u001b[38;5;241;43m=\u001b[39;49m\u001b[43mtimeout_ms\u001b[49m\u001b[43m)\u001b[49m\n\u001b[1;32m    703\u001b[0m \u001b[38;5;66;03m# after the long poll, we should check whether the group needs to rebalance\u001b[39;00m\n\u001b[1;32m    704\u001b[0m \u001b[38;5;66;03m# prior to returning data so that the group can stabilize faster\u001b[39;00m\n\u001b[1;32m    705\u001b[0m \u001b[38;5;28;01mif\u001b[39;00m \u001b[38;5;28mself\u001b[39m\u001b[38;5;241m.\u001b[39m_coordinator\u001b[38;5;241m.\u001b[39mneed_rejoin():\n",
      "File \u001b[0;32m/opt/conda/lib/python3.10/site-packages/kafka/client_async.py:602\u001b[0m, in \u001b[0;36mKafkaClient.poll\u001b[0;34m(self, timeout_ms, future)\u001b[0m\n\u001b[1;32m    599\u001b[0m             timeout \u001b[38;5;241m=\u001b[39m \u001b[38;5;28mmin\u001b[39m(timeout, \u001b[38;5;28mself\u001b[39m\u001b[38;5;241m.\u001b[39mconfig[\u001b[38;5;124m'\u001b[39m\u001b[38;5;124mretry_backoff_ms\u001b[39m\u001b[38;5;124m'\u001b[39m])\n\u001b[1;32m    600\u001b[0m         timeout \u001b[38;5;241m=\u001b[39m \u001b[38;5;28mmax\u001b[39m(\u001b[38;5;241m0\u001b[39m, timeout)  \u001b[38;5;66;03m# avoid negative timeouts\u001b[39;00m\n\u001b[0;32m--> 602\u001b[0m     \u001b[38;5;28;43mself\u001b[39;49m\u001b[38;5;241;43m.\u001b[39;49m\u001b[43m_poll\u001b[49m\u001b[43m(\u001b[49m\u001b[43mtimeout\u001b[49m\u001b[43m \u001b[49m\u001b[38;5;241;43m/\u001b[39;49m\u001b[43m \u001b[49m\u001b[38;5;241;43m1000\u001b[39;49m\u001b[43m)\u001b[49m\n\u001b[1;32m    604\u001b[0m \u001b[38;5;66;03m# called without the lock to avoid deadlock potential\u001b[39;00m\n\u001b[1;32m    605\u001b[0m \u001b[38;5;66;03m# if handlers need to acquire locks\u001b[39;00m\n\u001b[1;32m    606\u001b[0m responses\u001b[38;5;241m.\u001b[39mextend(\u001b[38;5;28mself\u001b[39m\u001b[38;5;241m.\u001b[39m_fire_pending_completed_requests())\n",
      "File \u001b[0;32m/opt/conda/lib/python3.10/site-packages/kafka/client_async.py:634\u001b[0m, in \u001b[0;36mKafkaClient._poll\u001b[0;34m(self, timeout)\u001b[0m\n\u001b[1;32m    631\u001b[0m \u001b[38;5;28mself\u001b[39m\u001b[38;5;241m.\u001b[39m_register_send_sockets()\n\u001b[1;32m    633\u001b[0m start_select \u001b[38;5;241m=\u001b[39m time\u001b[38;5;241m.\u001b[39mtime()\n\u001b[0;32m--> 634\u001b[0m ready \u001b[38;5;241m=\u001b[39m \u001b[38;5;28;43mself\u001b[39;49m\u001b[38;5;241;43m.\u001b[39;49m\u001b[43m_selector\u001b[49m\u001b[38;5;241;43m.\u001b[39;49m\u001b[43mselect\u001b[49m\u001b[43m(\u001b[49m\u001b[43mtimeout\u001b[49m\u001b[43m)\u001b[49m\n\u001b[1;32m    635\u001b[0m end_select \u001b[38;5;241m=\u001b[39m time\u001b[38;5;241m.\u001b[39mtime()\n\u001b[1;32m    636\u001b[0m \u001b[38;5;28;01mif\u001b[39;00m \u001b[38;5;28mself\u001b[39m\u001b[38;5;241m.\u001b[39m_sensors:\n",
      "File \u001b[0;32m/opt/conda/lib/python3.10/selectors.py:469\u001b[0m, in \u001b[0;36mEpollSelector.select\u001b[0;34m(self, timeout)\u001b[0m\n\u001b[1;32m    467\u001b[0m ready \u001b[38;5;241m=\u001b[39m []\n\u001b[1;32m    468\u001b[0m \u001b[38;5;28;01mtry\u001b[39;00m:\n\u001b[0;32m--> 469\u001b[0m     fd_event_list \u001b[38;5;241m=\u001b[39m \u001b[38;5;28;43mself\u001b[39;49m\u001b[38;5;241;43m.\u001b[39;49m\u001b[43m_selector\u001b[49m\u001b[38;5;241;43m.\u001b[39;49m\u001b[43mpoll\u001b[49m\u001b[43m(\u001b[49m\u001b[43mtimeout\u001b[49m\u001b[43m,\u001b[49m\u001b[43m \u001b[49m\u001b[43mmax_ev\u001b[49m\u001b[43m)\u001b[49m\n\u001b[1;32m    470\u001b[0m \u001b[38;5;28;01mexcept\u001b[39;00m \u001b[38;5;167;01mInterruptedError\u001b[39;00m:\n\u001b[1;32m    471\u001b[0m     \u001b[38;5;28;01mreturn\u001b[39;00m ready\n",
      "\u001b[0;31mKeyboardInterrupt\u001b[0m: "
     ]
    }
   ],
   "source": [
    "for message in consumer:\n",
    "    print (\"%s:%d:%d: key=%s value=%s\" % (message.topic, message.partition,\n",
    "                                          message.offset, message.key,\n",
    "                                          message.value))"
   ]
  },
  {
   "cell_type": "code",
   "execution_count": null,
   "id": "3c285f74-9601-462e-bd4c-bbb5cfb59126",
   "metadata": {
    "tags": []
   },
   "outputs": [],
   "source": [
    "from kafka import TopicPartition\n",
    "\n",
    "consumer = KafkaConsumer(group_id='dibimbing-group',\n",
    "                         bootstrap_servers=[f'{kafka_host}:9092'],\n",
    "                         value_deserializer=lambda m: json.loads(m.decode('ascii')),\n",
    "                         auto_offset_reset='earliest',\n",
    "                         enable_auto_commit=False\n",
    "                        )\n",
    "consumer.assign([TopicPartition(kafka_topic_partition, 2)])"
   ]
  },
  {
   "cell_type": "code",
   "execution_count": null,
   "id": "4b0a6eba-f188-4d4f-ab12-f63685faf4f3",
   "metadata": {
    "tags": []
   },
   "outputs": [],
   "source": [
    "for message in consumer:\n",
    "    print (\"%s:%d:%d: key=%s value=%s\" % (message.topic, message.partition,\n",
    "                                          message.offset, message.key,\n",
    "                                          message.value))"
   ]
  },
  {
   "cell_type": "code",
   "execution_count": null,
   "id": "bb81528d-ed9f-48e2-9ce3-f0d27f8a26d0",
   "metadata": {
    "tags": []
   },
   "outputs": [],
   "source": [
    "consumer.seek_to_beginning()"
   ]
  },
  {
   "cell_type": "code",
   "execution_count": null,
   "id": "c2794306-ef7a-416b-8b70-22395b9ed83b",
   "metadata": {
    "tags": []
   },
   "outputs": [],
   "source": [
    "for message in consumer:\n",
    "    print (\"%s:%d:%d: key=%s value=%s\" % (message.topic, message.partition,\n",
    "                                          message.offset, message.key,\n",
    "                                          message.value))"
   ]
  }
 ],
 "metadata": {
  "kernelspec": {
   "display_name": "Python 3 (ipykernel)",
   "language": "python",
   "name": "python3"
  },
  "language_info": {
   "codemirror_mode": {
    "name": "ipython",
    "version": 3
   },
   "file_extension": ".py",
   "mimetype": "text/x-python",
   "name": "python",
   "nbconvert_exporter": "python",
   "pygments_lexer": "ipython3",
   "version": "3.10.10"
  }
 },
 "nbformat": 4,
 "nbformat_minor": 5
}
